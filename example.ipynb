{
 "metadata": {
  "language_info": {
   "codemirror_mode": {
    "name": "ipython",
    "version": 3
   },
   "file_extension": ".py",
   "mimetype": "text/x-python",
   "name": "python",
   "nbconvert_exporter": "python",
   "pygments_lexer": "ipython3",
   "version": "3.7.7-final"
  },
  "orig_nbformat": 2,
  "kernelspec": {
   "name": "python3",
   "display_name": "Python 3"
  }
 },
 "nbformat": 4,
 "nbformat_minor": 2,
 "cells": [
  {
   "cell_type": "code",
   "execution_count": 1,
   "metadata": {
    "tags": []
   },
   "outputs": [],
   "source": [
    "import pandas as pd\n",
    "\n",
    "from critical_prediction_model import predict_critical_cases"
   ]
  },
  {
   "cell_type": "markdown",
   "metadata": {},
   "source": [
    "# Load data"
   ]
  },
  {
   "cell_type": "code",
   "execution_count": 2,
   "metadata": {},
   "outputs": [
    {
     "output_type": "execute_result",
     "data": {
      "text/plain": "            new_daily_critical  cases_20_59  cases_60_74  cases_75+  \\\nDate                                                                  \n2020-07-23                57.0      1093.68   139.786644  55.513356   \n2020-07-24                36.0       984.42   137.788833  54.719967   \n2020-07-25                22.0       597.24    69.504525  27.602275   \n2020-07-26                38.0       572.00    65.356877  25.955123   \n2020-07-27                37.0      1179.41   157.387021  62.502979   \n\n            total_critical  \nDate                        \n2020-07-23             315  \n2020-07-24             329  \n2020-07-25             325  \n2020-07-26             315  \n2020-07-27             318  ",
      "text/html": "<div>\n<style scoped>\n    .dataframe tbody tr th:only-of-type {\n        vertical-align: middle;\n    }\n\n    .dataframe tbody tr th {\n        vertical-align: top;\n    }\n\n    .dataframe thead th {\n        text-align: right;\n    }\n</style>\n<table border=\"1\" class=\"dataframe\">\n  <thead>\n    <tr style=\"text-align: right;\">\n      <th></th>\n      <th>new_daily_critical</th>\n      <th>cases_20_59</th>\n      <th>cases_60_74</th>\n      <th>cases_75+</th>\n      <th>total_critical</th>\n    </tr>\n    <tr>\n      <th>Date</th>\n      <th></th>\n      <th></th>\n      <th></th>\n      <th></th>\n      <th></th>\n    </tr>\n  </thead>\n  <tbody>\n    <tr>\n      <th>2020-07-23</th>\n      <td>57.0</td>\n      <td>1093.68</td>\n      <td>139.786644</td>\n      <td>55.513356</td>\n      <td>315</td>\n    </tr>\n    <tr>\n      <th>2020-07-24</th>\n      <td>36.0</td>\n      <td>984.42</td>\n      <td>137.788833</td>\n      <td>54.719967</td>\n      <td>329</td>\n    </tr>\n    <tr>\n      <th>2020-07-25</th>\n      <td>22.0</td>\n      <td>597.24</td>\n      <td>69.504525</td>\n      <td>27.602275</td>\n      <td>325</td>\n    </tr>\n    <tr>\n      <th>2020-07-26</th>\n      <td>38.0</td>\n      <td>572.00</td>\n      <td>65.356877</td>\n      <td>25.955123</td>\n      <td>315</td>\n    </tr>\n    <tr>\n      <th>2020-07-27</th>\n      <td>37.0</td>\n      <td>1179.41</td>\n      <td>157.387021</td>\n      <td>62.502979</td>\n      <td>318</td>\n    </tr>\n  </tbody>\n</table>\n</div>"
     },
     "metadata": {},
     "execution_count": 2
    }
   ],
   "source": [
    "# Read data. make sure index is Date and in datetime format\n",
    "data = pd.read_csv('data.csv', parse_dates=['Date'], index_col='Date')\n",
    "data.tail()"
   ]
  },
  {
   "cell_type": "markdown",
   "metadata": {},
   "source": [
    "# Apply model and predict 6 days forward"
   ]
  },
  {
   "cell_type": "code",
   "execution_count": 5,
   "metadata": {
    "tags": []
   },
   "outputs": [
    {
     "output_type": "stream",
     "name": "stdout",
     "text": "predicted_total_critical_next_week:  348.99029911083727\n"
    }
   ],
   "source": [
    "# \"today\" date, i.e. last date we have data\n",
    "today_date = pd.to_datetime('2020-07-27')\n",
    "\n",
    "predicted_total_critical_next_week = predict_critical_cases(new_daily_critical_history= data.loc[:today_date, 'new_daily_critical'],\n",
    "                                                cases_20_59_history=data.loc[:today_date, 'cases_20_59'],\n",
    "                                                cases_60_74_history=data.loc[:today_date, 'cases_60_74'],\n",
    "                                                cases_75_plus_history=data.loc[:today_date, 'cases_75+'],\n",
    "                                                total_critical_today=data.loc[today_date, 'total_critical'])\n",
    "\n",
    "print('predicted_total_critical_next_week: ', predicted_total_critical_next_week)\n"
   ]
  },
  {
   "cell_type": "code",
   "execution_count": null,
   "metadata": {},
   "outputs": [],
   "source": []
  }
 ]
}